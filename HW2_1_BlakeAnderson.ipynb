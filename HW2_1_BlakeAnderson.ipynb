{
  "nbformat": 4,
  "nbformat_minor": 0,
  "metadata": {
    "colab": {
      "provenance": [],
      "authorship_tag": "ABX9TyPWuuMjnokHLsGtFceZcpuS",
      "include_colab_link": true
    },
    "kernelspec": {
      "name": "python3",
      "display_name": "Python 3"
    },
    "language_info": {
      "name": "python"
    }
  },
  "cells": [
    {
      "cell_type": "markdown",
      "metadata": {
        "id": "view-in-github",
        "colab_type": "text"
      },
      "source": [
        "<a href=\"https://colab.research.google.com/github/blandersonw/MachineLearning/blob/main/HW2_1_BlakeAnderson.ipynb\" target=\"_parent\"><img src=\"https://colab.research.google.com/assets/colab-badge.svg\" alt=\"Open In Colab\"/></a>"
      ]
    },
    {
      "cell_type": "markdown",
      "source": [
        "## HW 2. \n",
        "\n",
        "You will repeat the main procedures from Lecture 2 in much simplified steps using a different data set (https://www.cs.toronto.edu/~delve/data/boston/bostonDetail.html).\n",
        "\n",
        "1. Download the data using urllib and read the file into pandas dataframe. The url for data is \"https://raw.githubusercontent.com/selva86/datasets/master/BostonHousing.csv\"\n",
        "\n",
        "2. Print the statistics of continuous variables. Note that \"medv\" is our target variable.\n",
        "\n",
        "3. Examine the variables and list top five variables that correlates the most (either positively or negatively) with \"medv\". What are the correlation values?\n",
        "\n",
        "3. Create a pipeline of simple median imputer and standard scaler. How many elements are missing for each variable?\n",
        "\n",
        "4. Set the random seed to 0. Split the training (80%) and the test set (20%) using scikit-learn (no stratified sampling necessary.)\n",
        "\n",
        "5. Fit a linear regression model to the training data. Report Training MAE and Test MAE.\n",
        "\n",
        "NOTE: Add comments for each step such as your observations on the results, etc. To make grading easy, please leave all cell open and leave the results."
      ],
      "metadata": {
        "id": "oxTVn-9jVJsM"
      }
    },
    {
      "cell_type": "markdown",
      "source": [
        "IMPORTING LIBRARIES + EXTENSIONS"
      ],
      "metadata": {
        "id": "N2Qmk08olebt"
      }
    },
    {
      "cell_type": "code",
      "execution_count": null,
      "metadata": {
        "id": "55Cp_gS6VCFz"
      },
      "outputs": [],
      "source": [
        "# Python ≥3.5 is required\n",
        "import sys\n",
        "assert sys.version_info >= (3, 5)\n",
        "\n",
        "# Scikit-Learn ≥0.20 is required\n",
        "import sklearn\n",
        "assert sklearn.__version__ >= \"0.20\"\n",
        "\n",
        "# Common imports\n",
        "import numpy as np\n",
        "import os\n",
        "\n",
        "# To plot pretty figures\n",
        "%matplotlib inline\n",
        "import matplotlib as mpl\n",
        "import matplotlib.pyplot as plt\n",
        "mpl.rc('axes', labelsize=14)\n",
        "mpl.rc('xtick', labelsize=12)\n",
        "mpl.rc('ytick', labelsize=12)"
      ]
    },
    {
      "cell_type": "markdown",
      "source": [
        "DOWNLOAD DATA INTO DATAFRAME"
      ],
      "metadata": {
        "id": "hG3GTU5JlmGL"
      }
    },
    {
      "cell_type": "code",
      "source": [
        "import os\n",
        "import tarfile\n",
        "import urllib.request\n",
        "import pandas as pd\n",
        "\n",
        "url = (\"https://raw.githubusercontent.com/selva86/datasets/master/BostonHousing.csv\")\n",
        "\n",
        "boston =pd.read_csv(url)\n",
        "boston.head()"
      ],
      "metadata": {
        "colab": {
          "base_uri": "https://localhost:8080/",
          "height": 206
        },
        "id": "xcnREhmdVWiQ",
        "outputId": "0c62fd92-3044-42c2-d09e-2189916c7278"
      },
      "execution_count": null,
      "outputs": [
        {
          "output_type": "execute_result",
          "data": {
            "text/plain": [
              "      crim    zn  indus  chas    nox     rm   age     dis  rad  tax  ptratio  \\\n",
              "0  0.00632  18.0   2.31     0  0.538  6.575  65.2  4.0900    1  296     15.3   \n",
              "1  0.02731   0.0   7.07     0  0.469  6.421  78.9  4.9671    2  242     17.8   \n",
              "2  0.02729   0.0   7.07     0  0.469  7.185  61.1  4.9671    2  242     17.8   \n",
              "3  0.03237   0.0   2.18     0  0.458  6.998  45.8  6.0622    3  222     18.7   \n",
              "4  0.06905   0.0   2.18     0  0.458  7.147  54.2  6.0622    3  222     18.7   \n",
              "\n",
              "        b  lstat  medv  \n",
              "0  396.90   4.98  24.0  \n",
              "1  396.90   9.14  21.6  \n",
              "2  392.83   4.03  34.7  \n",
              "3  394.63   2.94  33.4  \n",
              "4  396.90   5.33  36.2  "
            ],
            "text/html": [
              "\n",
              "  <div id=\"df-dcca0eb0-8e60-4d64-bb77-42659082bab3\">\n",
              "    <div class=\"colab-df-container\">\n",
              "      <div>\n",
              "<style scoped>\n",
              "    .dataframe tbody tr th:only-of-type {\n",
              "        vertical-align: middle;\n",
              "    }\n",
              "\n",
              "    .dataframe tbody tr th {\n",
              "        vertical-align: top;\n",
              "    }\n",
              "\n",
              "    .dataframe thead th {\n",
              "        text-align: right;\n",
              "    }\n",
              "</style>\n",
              "<table border=\"1\" class=\"dataframe\">\n",
              "  <thead>\n",
              "    <tr style=\"text-align: right;\">\n",
              "      <th></th>\n",
              "      <th>crim</th>\n",
              "      <th>zn</th>\n",
              "      <th>indus</th>\n",
              "      <th>chas</th>\n",
              "      <th>nox</th>\n",
              "      <th>rm</th>\n",
              "      <th>age</th>\n",
              "      <th>dis</th>\n",
              "      <th>rad</th>\n",
              "      <th>tax</th>\n",
              "      <th>ptratio</th>\n",
              "      <th>b</th>\n",
              "      <th>lstat</th>\n",
              "      <th>medv</th>\n",
              "    </tr>\n",
              "  </thead>\n",
              "  <tbody>\n",
              "    <tr>\n",
              "      <th>0</th>\n",
              "      <td>0.00632</td>\n",
              "      <td>18.0</td>\n",
              "      <td>2.31</td>\n",
              "      <td>0</td>\n",
              "      <td>0.538</td>\n",
              "      <td>6.575</td>\n",
              "      <td>65.2</td>\n",
              "      <td>4.0900</td>\n",
              "      <td>1</td>\n",
              "      <td>296</td>\n",
              "      <td>15.3</td>\n",
              "      <td>396.90</td>\n",
              "      <td>4.98</td>\n",
              "      <td>24.0</td>\n",
              "    </tr>\n",
              "    <tr>\n",
              "      <th>1</th>\n",
              "      <td>0.02731</td>\n",
              "      <td>0.0</td>\n",
              "      <td>7.07</td>\n",
              "      <td>0</td>\n",
              "      <td>0.469</td>\n",
              "      <td>6.421</td>\n",
              "      <td>78.9</td>\n",
              "      <td>4.9671</td>\n",
              "      <td>2</td>\n",
              "      <td>242</td>\n",
              "      <td>17.8</td>\n",
              "      <td>396.90</td>\n",
              "      <td>9.14</td>\n",
              "      <td>21.6</td>\n",
              "    </tr>\n",
              "    <tr>\n",
              "      <th>2</th>\n",
              "      <td>0.02729</td>\n",
              "      <td>0.0</td>\n",
              "      <td>7.07</td>\n",
              "      <td>0</td>\n",
              "      <td>0.469</td>\n",
              "      <td>7.185</td>\n",
              "      <td>61.1</td>\n",
              "      <td>4.9671</td>\n",
              "      <td>2</td>\n",
              "      <td>242</td>\n",
              "      <td>17.8</td>\n",
              "      <td>392.83</td>\n",
              "      <td>4.03</td>\n",
              "      <td>34.7</td>\n",
              "    </tr>\n",
              "    <tr>\n",
              "      <th>3</th>\n",
              "      <td>0.03237</td>\n",
              "      <td>0.0</td>\n",
              "      <td>2.18</td>\n",
              "      <td>0</td>\n",
              "      <td>0.458</td>\n",
              "      <td>6.998</td>\n",
              "      <td>45.8</td>\n",
              "      <td>6.0622</td>\n",
              "      <td>3</td>\n",
              "      <td>222</td>\n",
              "      <td>18.7</td>\n",
              "      <td>394.63</td>\n",
              "      <td>2.94</td>\n",
              "      <td>33.4</td>\n",
              "    </tr>\n",
              "    <tr>\n",
              "      <th>4</th>\n",
              "      <td>0.06905</td>\n",
              "      <td>0.0</td>\n",
              "      <td>2.18</td>\n",
              "      <td>0</td>\n",
              "      <td>0.458</td>\n",
              "      <td>7.147</td>\n",
              "      <td>54.2</td>\n",
              "      <td>6.0622</td>\n",
              "      <td>3</td>\n",
              "      <td>222</td>\n",
              "      <td>18.7</td>\n",
              "      <td>396.90</td>\n",
              "      <td>5.33</td>\n",
              "      <td>36.2</td>\n",
              "    </tr>\n",
              "  </tbody>\n",
              "</table>\n",
              "</div>\n",
              "      <button class=\"colab-df-convert\" onclick=\"convertToInteractive('df-dcca0eb0-8e60-4d64-bb77-42659082bab3')\"\n",
              "              title=\"Convert this dataframe to an interactive table.\"\n",
              "              style=\"display:none;\">\n",
              "        \n",
              "  <svg xmlns=\"http://www.w3.org/2000/svg\" height=\"24px\"viewBox=\"0 0 24 24\"\n",
              "       width=\"24px\">\n",
              "    <path d=\"M0 0h24v24H0V0z\" fill=\"none\"/>\n",
              "    <path d=\"M18.56 5.44l.94 2.06.94-2.06 2.06-.94-2.06-.94-.94-2.06-.94 2.06-2.06.94zm-11 1L8.5 8.5l.94-2.06 2.06-.94-2.06-.94L8.5 2.5l-.94 2.06-2.06.94zm10 10l.94 2.06.94-2.06 2.06-.94-2.06-.94-.94-2.06-.94 2.06-2.06.94z\"/><path d=\"M17.41 7.96l-1.37-1.37c-.4-.4-.92-.59-1.43-.59-.52 0-1.04.2-1.43.59L10.3 9.45l-7.72 7.72c-.78.78-.78 2.05 0 2.83L4 21.41c.39.39.9.59 1.41.59.51 0 1.02-.2 1.41-.59l7.78-7.78 2.81-2.81c.8-.78.8-2.07 0-2.86zM5.41 20L4 18.59l7.72-7.72 1.47 1.35L5.41 20z\"/>\n",
              "  </svg>\n",
              "      </button>\n",
              "      \n",
              "  <style>\n",
              "    .colab-df-container {\n",
              "      display:flex;\n",
              "      flex-wrap:wrap;\n",
              "      gap: 12px;\n",
              "    }\n",
              "\n",
              "    .colab-df-convert {\n",
              "      background-color: #E8F0FE;\n",
              "      border: none;\n",
              "      border-radius: 50%;\n",
              "      cursor: pointer;\n",
              "      display: none;\n",
              "      fill: #1967D2;\n",
              "      height: 32px;\n",
              "      padding: 0 0 0 0;\n",
              "      width: 32px;\n",
              "    }\n",
              "\n",
              "    .colab-df-convert:hover {\n",
              "      background-color: #E2EBFA;\n",
              "      box-shadow: 0px 1px 2px rgba(60, 64, 67, 0.3), 0px 1px 3px 1px rgba(60, 64, 67, 0.15);\n",
              "      fill: #174EA6;\n",
              "    }\n",
              "\n",
              "    [theme=dark] .colab-df-convert {\n",
              "      background-color: #3B4455;\n",
              "      fill: #D2E3FC;\n",
              "    }\n",
              "\n",
              "    [theme=dark] .colab-df-convert:hover {\n",
              "      background-color: #434B5C;\n",
              "      box-shadow: 0px 1px 3px 1px rgba(0, 0, 0, 0.15);\n",
              "      filter: drop-shadow(0px 1px 2px rgba(0, 0, 0, 0.3));\n",
              "      fill: #FFFFFF;\n",
              "    }\n",
              "  </style>\n",
              "\n",
              "      <script>\n",
              "        const buttonEl =\n",
              "          document.querySelector('#df-dcca0eb0-8e60-4d64-bb77-42659082bab3 button.colab-df-convert');\n",
              "        buttonEl.style.display =\n",
              "          google.colab.kernel.accessAllowed ? 'block' : 'none';\n",
              "\n",
              "        async function convertToInteractive(key) {\n",
              "          const element = document.querySelector('#df-dcca0eb0-8e60-4d64-bb77-42659082bab3');\n",
              "          const dataTable =\n",
              "            await google.colab.kernel.invokeFunction('convertToInteractive',\n",
              "                                                     [key], {});\n",
              "          if (!dataTable) return;\n",
              "\n",
              "          const docLinkHtml = 'Like what you see? Visit the ' +\n",
              "            '<a target=\"_blank\" href=https://colab.research.google.com/notebooks/data_table.ipynb>data table notebook</a>'\n",
              "            + ' to learn more about interactive tables.';\n",
              "          element.innerHTML = '';\n",
              "          dataTable['output_type'] = 'display_data';\n",
              "          await google.colab.output.renderOutput(dataTable, element);\n",
              "          const docLink = document.createElement('div');\n",
              "          docLink.innerHTML = docLinkHtml;\n",
              "          element.appendChild(docLink);\n",
              "        }\n",
              "      </script>\n",
              "    </div>\n",
              "  </div>\n",
              "  "
            ]
          },
          "metadata": {},
          "execution_count": 2
        }
      ]
    },
    {
      "cell_type": "markdown",
      "source": [
        "Plotting each column by frequency in order to visualize data.  Not necessary for homework."
      ],
      "metadata": {
        "id": "z8m62GCklu6Y"
      }
    },
    {
      "cell_type": "code",
      "source": [
        "import matplotlib.pyplot as plt\n",
        "boston.hist(bins=50, figsize=(20,15))\n",
        "plt.show()"
      ],
      "metadata": {
        "colab": {
          "base_uri": "https://localhost:8080/",
          "height": 882
        },
        "id": "6v1Akv9nXdzo",
        "outputId": "c490edda-1e07-4d53-8764-306865a7186d"
      },
      "execution_count": null,
      "outputs": [
        {
          "output_type": "display_data",
          "data": {
            "text/plain": [
              "<Figure size 1440x1080 with 16 Axes>"
            ],
            "image/png": "[encoded data removed]"
          },
          "metadata": {
            "needs_background": "light"
          }
        }
      ]
    },
    {
      "cell_type": "markdown",
      "source": [
        "PLOT STATISTICS OF CONTINUOUS VARIABLES"
      ],
      "metadata": {
        "id": "S6evgEjfl-oJ"
      }
    },
    {
      "cell_type": "code",
      "source": [
        "print(boston['crim'].describe(), '\\n')\n",
        "print(boston['indus'].describe(), '\\n')\n",
        "print(boston['nox'].describe(), '\\n')\n",
        "print(boston['rm'].describe(), '\\n')\n",
        "print(boston['age'].describe(), '\\n')\n",
        "print(boston['dis'].describe(), '\\n')\n",
        "print(boston['ptratio'].describe(), '\\n')\n",
        "print(boston['b'].describe(), '\\n')\n",
        "print(boston['lstat'].describe(), '\\n')\n",
        "print(boston['medv'].describe(), '\\n')"
      ],
      "metadata": {
        "colab": {
          "base_uri": "https://localhost:8080/"
        },
        "id": "xUkKr-m6ikGh",
        "outputId": "ed74c2f7-a88a-4902-c919-cae5f5ab244d"
      },
      "execution_count": null,
      "outputs": [
        {
          "output_type": "stream",
          "name": "stdout",
          "text": [
            "count    506.000000\n",
            "mean       3.613524\n",
            "std        8.601545\n",
            "min        0.006320\n",
            "25%        0.082045\n",
            "50%        0.256510\n",
            "75%        3.677083\n",
            "max       88.976200\n",
            "Name: crim, dtype: float64 \n",
            "\n",
            "count    506.000000\n",
            "mean      11.136779\n",
            "std        6.860353\n",
            "min        0.460000\n",
            "25%        5.190000\n",
            "50%        9.690000\n",
            "75%       18.100000\n",
            "max       27.740000\n",
            "Name: indus, dtype: float64 \n",
            "\n",
            "count    506.000000\n",
            "mean       0.554695\n",
            "std        0.115878\n",
            "min        0.385000\n",
            "25%        0.449000\n",
            "50%        0.538000\n",
            "75%        0.624000\n",
            "max        0.871000\n",
            "Name: nox, dtype: float64 \n",
            "\n",
            "count    506.000000\n",
            "mean       6.284634\n",
            "std        0.702617\n",
            "min        3.561000\n",
            "25%        5.885500\n",
            "50%        6.208500\n",
            "75%        6.623500\n",
            "max        8.780000\n",
            "Name: rm, dtype: float64 \n",
            "\n",
            "count    506.000000\n",
            "mean      68.574901\n",
            "std       28.148861\n",
            "min        2.900000\n",
            "25%       45.025000\n",
            "50%       77.500000\n",
            "75%       94.075000\n",
            "max      100.000000\n",
            "Name: age, dtype: float64 \n",
            "\n",
            "count    506.000000\n",
            "mean       3.795043\n",
            "std        2.105710\n",
            "min        1.129600\n",
            "25%        2.100175\n",
            "50%        3.207450\n",
            "75%        5.188425\n",
            "max       12.126500\n",
            "Name: dis, dtype: float64 \n",
            "\n",
            "count    506.000000\n",
            "mean      18.455534\n",
            "std        2.164946\n",
            "min       12.600000\n",
            "25%       17.400000\n",
            "50%       19.050000\n",
            "75%       20.200000\n",
            "max       22.000000\n",
            "Name: ptratio, dtype: float64 \n",
            "\n",
            "count    506.000000\n",
            "mean     356.674032\n",
            "std       91.294864\n",
            "min        0.320000\n",
            "25%      375.377500\n",
            "50%      391.440000\n",
            "75%      396.225000\n",
            "max      396.900000\n",
            "Name: b, dtype: float64 \n",
            "\n",
            "count    506.000000\n",
            "mean      12.653063\n",
            "std        7.141062\n",
            "min        1.730000\n",
            "25%        6.950000\n",
            "50%       11.360000\n",
            "75%       16.955000\n",
            "max       37.970000\n",
            "Name: lstat, dtype: float64 \n",
            "\n",
            "count    506.000000\n",
            "mean      22.532806\n",
            "std        9.197104\n",
            "min        5.000000\n",
            "25%       17.025000\n",
            "50%       21.200000\n",
            "75%       25.000000\n",
            "max       50.000000\n",
            "Name: medv, dtype: float64 \n",
            "\n"
          ]
        }
      ]
    },
    {
      "cell_type": "code",
      "source": [
        "#creating a dictionary with correlation values\n",
        "corr_values = {}\n",
        "\n",
        "#instantiating function, name is column to compare correlations to\n",
        "def corr1(name):\n",
        "\n",
        "  #iterate through column names\n",
        "  for i in boston:\n",
        "\n",
        "    #find correlation\n",
        "    corr = boston[i].corr(boston[name])\n",
        "\n",
        "    #check if correlation negative, add to dictionary\n",
        "    if corr<0 and name!=i:\n",
        "      corr_values[i + ' and ' + name + ' (neg)'] = -corr\n",
        "\n",
        "    #check if correlation positive, add to dictionary\n",
        "    elif corr>=0 and name!=i:\n",
        "      corr_values[i + ' and medv (pos)'] = corr\n",
        "\n",
        "  #sort a maxes list with the 5 largest values\n",
        "  maxes = sorted(corr_values, key=corr_values.get, reverse=True)[:5]\n",
        "\n",
        "  #print the 5 largest values\n",
        "  for i in maxes:\n",
        "    print(i, corr_values[i])\n",
        "\n",
        "corr1(\"medv\")"
      ],
      "metadata": {
        "colab": {
          "base_uri": "https://localhost:8080/"
        },
        "id": "iXeBrWxjkCsA",
        "outputId": "b3ace766-88c5-4291-8b75-1beadfa7063d"
      },
      "execution_count": null,
      "outputs": [
        {
          "output_type": "stream",
          "name": "stdout",
          "text": [
            "lstat and medv (neg) 0.7376627261740151\n",
            "rm and medv (pos) 0.6953599470715393\n",
            "ptratio and medv (neg) 0.5077866855375616\n",
            "indus and medv (neg) 0.48372516002837357\n",
            "tax and medv (neg) 0.46853593356776685\n"
          ]
        }
      ]
    },
    {
      "cell_type": "code",
      "source": [
        "corr_matrix = boston.corr()\n",
        "corr_matrix[\"medv\"].sort_values(ascending=False)\n",
        "#This is the more efficient way to find correlation values"
      ],
      "metadata": {
        "colab": {
          "base_uri": "https://localhost:8080/"
        },
        "id": "CviHRjKZvxtY",
        "outputId": "401be775-595e-40db-f97a-1b43d1d50eee"
      },
      "execution_count": null,
      "outputs": [
        {
          "output_type": "execute_result",
          "data": {
            "text/plain": [
              "medv       1.000000\n",
              "rm         0.695360\n",
              "zn         0.360445\n",
              "b          0.333461\n",
              "dis        0.249929\n",
              "chas       0.175260\n",
              "age       -0.376955\n",
              "rad       -0.381626\n",
              "crim      -0.388305\n",
              "nox       -0.427321\n",
              "tax       -0.468536\n",
              "indus     -0.483725\n",
              "ptratio   -0.507787\n",
              "lstat     -0.737663\n",
              "Name: medv, dtype: float64"
            ]
          },
          "metadata": {},
          "execution_count": 6
        }
      ]
    },
    {
      "cell_type": "markdown",
      "source": [
        "Code below not necessary, misinterpreted question at first"
      ],
      "metadata": {
        "id": "ZViMeSV4iTY_"
      }
    },
    {
      "cell_type": "code",
      "source": [
        "def median(name):\n",
        "  sorted_list = sorted(boston[name])\n",
        "  length = len(sorted_list)\n",
        "  if length % 2 == 0:\n",
        "    med = (sorted_list[length//2] + sorted_list[length//2-1])/2\n",
        "  else:\n",
        "    med = sorted_list[length//2]\n",
        "  return(med)\n",
        "\n",
        "for column in boston:\n",
        "  print('median is ', median(column))\n",
        "  print('mean is ', boston[column].mean())"
      ],
      "metadata": {
        "colab": {
          "base_uri": "https://localhost:8080/"
        },
        "id": "Dw0605EQncxn",
        "outputId": "7ffaae90-18bc-411e-f4a4-64f0b97731ba"
      },
      "execution_count": null,
      "outputs": [
        {
          "output_type": "stream",
          "name": "stdout",
          "text": [
            "median is  0.25651\n",
            "mean is  3.613523557312254\n",
            "median is  0.0\n",
            "mean is  11.363636363636363\n",
            "median is  9.69\n",
            "mean is  11.13677865612648\n",
            "median is  0.0\n",
            "mean is  0.0691699604743083\n",
            "median is  0.538\n",
            "mean is  0.5546950592885376\n",
            "median is  6.2085\n",
            "mean is  6.284634387351779\n",
            "median is  77.5\n",
            "mean is  68.57490118577076\n",
            "median is  3.2074499999999997\n",
            "mean is  3.795042687747036\n",
            "median is  5.0\n",
            "mean is  9.549407114624506\n",
            "median is  330.0\n",
            "mean is  408.2371541501976\n",
            "median is  19.05\n",
            "mean is  18.455533596837945\n",
            "median is  391.44\n",
            "mean is  356.6740316205534\n",
            "median is  11.36\n",
            "mean is  12.653063241106722\n",
            "median is  21.2\n",
            "mean is  22.532806324110677\n"
          ]
        }
      ]
    },
    {
      "cell_type": "markdown",
      "source": [
        "Adding sklearn median imputer"
      ],
      "metadata": {
        "id": "TRRw8cKSiZ0h"
      }
    },
    {
      "cell_type": "code",
      "source": [
        "from sklearn.impute import SimpleImputer\n",
        "\n",
        "#set up imputer\n",
        "imputer = SimpleImputer(strategy='median', missing_values=np.nan)\n",
        "\n",
        "#fit imputer to boston\n",
        "imputer.fit(boston)\n",
        "\n",
        "#print imputer medians\n",
        "imputer.statistics_\n",
        "\n",
        "#zero missing data"
      ],
      "metadata": {
        "colab": {
          "base_uri": "https://localhost:8080/"
        },
        "id": "crjCGVwaIjVJ",
        "outputId": "bbc0d05d-9b43-4ba8-9aec-6bbcd9d32a5b"
      },
      "execution_count": null,
      "outputs": [
        {
          "output_type": "execute_result",
          "data": {
            "text/plain": [
              "array([2.56510e-01, 0.00000e+00, 9.69000e+00, 0.00000e+00, 5.38000e-01,\n",
              "       6.20850e+00, 7.75000e+01, 3.20745e+00, 5.00000e+00, 3.30000e+02,\n",
              "       1.90500e+01, 3.91440e+02, 1.13600e+01, 2.12000e+01])"
            ]
          },
          "metadata": {},
          "execution_count": 8
        }
      ]
    },
    {
      "cell_type": "code",
      "source": [
        "from sklearn.pipeline import Pipeline\n",
        "from sklearn.preprocessing import StandardScaler\n",
        "\n",
        "#initialize standard scaler pipeline\n",
        "num_pipeline = Pipeline([\n",
        "        ('imputer', SimpleImputer(strategy=\"median\")),\n",
        "        ('std_scaler', StandardScaler()),\n",
        "    ])\n",
        "\n",
        "#apply imputer and standard scaler pipeline\n",
        "boston_tr = num_pipeline.fit_transform(boston)\n",
        "boston_tr"
      ],
      "metadata": {
        "colab": {
          "base_uri": "https://localhost:8080/"
        },
        "id": "dnsas2-wPjg4",
        "outputId": "43dd6beb-5edd-4348-ac93-a81d9ffa9088"
      },
      "execution_count": null,
      "outputs": [
        {
          "output_type": "execute_result",
          "data": {
            "text/plain": [
              "array([[-0.41978194,  0.28482986, -1.2879095 , ...,  0.44105193,\n",
              "        -1.0755623 ,  0.15968566],\n",
              "       [-0.41733926, -0.48772236, -0.59338101, ...,  0.44105193,\n",
              "        -0.49243937, -0.10152429],\n",
              "       [-0.41734159, -0.48772236, -0.59338101, ...,  0.39642699,\n",
              "        -1.2087274 ,  1.32424667],\n",
              "       ...,\n",
              "       [-0.41344658, -0.48772236,  0.11573841, ...,  0.44105193,\n",
              "        -0.98304761,  0.14880191],\n",
              "       [-0.40776407, -0.48772236,  0.11573841, ...,  0.4032249 ,\n",
              "        -0.86530163, -0.0579893 ],\n",
              "       [-0.41500016, -0.48772236,  0.11573841, ...,  0.44105193,\n",
              "        -0.66905833, -1.15724782]])"
            ]
          },
          "metadata": {},
          "execution_count": 9
        }
      ]
    },
    {
      "cell_type": "code",
      "source": [
        "from sklearn.model_selection import train_test_split\n",
        "\n",
        "#create dataframe with input variables\n",
        "bostonX = boston.drop(columns=['medv'])\n",
        "\n",
        "#create dataframe with output variables\n",
        "bostonY = boston['medv']\n",
        "\n",
        "#splitting test and training sets\n",
        "X_train, X_test, Y_train, Y_test = train_test_split(bostonX, bostonY, test_size=0.20, random_state=0)"
      ],
      "metadata": {
        "id": "pj_GCAuVnlCg"
      },
      "execution_count": null,
      "outputs": []
    },
    {
      "cell_type": "code",
      "source": [
        "from sklearn.linear_model import LinearRegression\n",
        "from sklearn.metrics import mean_absolute_error\n",
        "#importing more sklearn models\n",
        "\n",
        "#applying regression model to training data\n",
        "train_reg = LinearRegression()\n",
        "train_reg.fit(X_train, Y_train)\n",
        "\n",
        "#calculate mean absolute error for trainijng set\n",
        "train_predictvals = train_reg.predict(X_train)\n",
        "train_mae = mean_absolute_error(Y_train, train_predictvals)\n",
        "train_mae\n",
        "\n"
      ],
      "metadata": {
        "colab": {
          "base_uri": "https://localhost:8080/"
        },
        "id": "whML55f42HBk",
        "outputId": "1559081a-d76e-44c9-bf7b-f762fe371dab"
      },
      "execution_count": null,
      "outputs": [
        {
          "output_type": "execute_result",
          "data": {
            "text/plain": [
              "3.1031563965794313"
            ]
          },
          "metadata": {},
          "execution_count": 11
        }
      ]
    },
    {
      "cell_type": "code",
      "source": [
        "#applying regression model to training data\n",
        "test_reg = LinearRegression()\n",
        "test_reg.fit(X_test, Y_test)\n",
        "\n",
        "#calculate mean absolute error for training set\n",
        "test_predictvals = test_reg.predict(X_test)\n",
        "test_mae = mean_absolute_error(Y_test, test_predictvals)\n",
        "test_mae"
      ],
      "metadata": {
        "colab": {
          "base_uri": "https://localhost:8080/"
        },
        "id": "mhIhfLac77d7",
        "outputId": "ca8d203e-57e0-4b42-8095-4b409dcd63f6"
      },
      "execution_count": null,
      "outputs": [
        {
          "output_type": "execute_result",
          "data": {
            "text/plain": [
              "3.6685531077854945"
            ]
          },
          "metadata": {},
          "execution_count": 12
        }
      ]
    }
  ]
}