{
  "nbformat": 4,
  "nbformat_minor": 0,
  "metadata": {
    "colab": {
      "provenance": [],
      "authorship_tag": "ABX9TyNzDitiBkkwMf5GefPbeJla",
      "include_colab_link": true
    },
    "kernelspec": {
      "name": "python3",
      "display_name": "Python 3"
    },
    "language_info": {
      "name": "python"
    }
  },
  "cells": [
    {
      "cell_type": "markdown",
      "metadata": {
        "id": "view-in-github",
        "colab_type": "text"
      },
      "source": [
        "<a href=\"https://colab.research.google.com/github/blandersonw/MachineLearning/blob/main/HW4_2_BlakeAnderson.ipynb\" target=\"_parent\"><img src=\"https://colab.research.google.com/assets/colab-badge.svg\" alt=\"Open In Colab\"/></a>"
      ]
    },
    {
      "cell_type": "markdown",
      "source": [
        "We will train Logistic Regression, which was the 2nd topic of Lecture 4.\n",
        "\n",
        "Instead of the Iris dataset, we will use load the Digits dataset using \"sklearn.datasets.load_digits()\".\n",
        "You'll use \"X = digits[\"data\"]\" and \"y = digits[\"target\"]\" to load images (=features) and their true labels.\n",
        "\n",
        "Use the seed 0 everywhere.\n",
        "\n",
        "1. Plot the first 100 images (with 10 images per row) as you did with MNIST. This dataset is  different from MNIST in sizes, number of examples, values, etc. You should modify the plotting function to accommodate the differences.\n",
        "\n",
        "2. Randomly split the data into 80% training data and 20% testing data. Keep this split fixed.\n",
        "\n",
        "We will try two different regularizers (l2 and l1) separately.\n",
        "\n",
        "First use LogisticRegression(multi_class=\"multinomial\",solver=\"lbfgs\", penalty=\"l2\", C=C, random_state=0, max_iter=1000)\n",
        "\n",
        "What does this do? Comment on the choice of arguments above.\n",
        "Here C are the value you are going to provide as the regularization weight, similar to HW4-1.\n",
        "\n",
        "3. For each value of Cs = [1E-5,1E-4,1E-3,1E-2,1E-1,1E0]\n",
        "\n",
        "(a) instantiate LogisticRegression\n",
        "(b) measure 4-fold cross_validation error\n",
        "\n",
        "Report the cross-validation errors. Which C value has the smallest validation error?\n",
        "\n",
        "4. Now use the hyperparameter to retrain the model from scratch using all training data. Report the train and test error of this final model.\n",
        "\n",
        "5. Repeat 3 with LogisticRegression(..., penalty=\"l1\", C=C, random_state=0, max_iter=1000, solver='saga')\n",
        "\n",
        "6. Repeat 4 with LogisticRegression(..., penalty=\"l1\", C=C, random_state=0, max_iter=1000, solver='saga')\n",
        "\n",
        " "
      ],
      "metadata": {
        "id": "tjpspaHMiOA8"
      }
    },
    {
      "cell_type": "markdown",
      "source": [
        "# Importing Various Libraries"
      ],
      "metadata": {
        "id": "T1nGZSMYRQMX"
      }
    },
    {
      "cell_type": "code",
      "execution_count": null,
      "metadata": {
        "id": "Gz3xOUZxiI-x"
      },
      "outputs": [],
      "source": [
        "import os\n",
        "import tarfile\n",
        "import urllib.request\n",
        "import numpy as np\n",
        "import sklearn\n",
        "from sklearn.datasets import load_digits\n",
        "%matplotlib inline\n",
        "import matplotlib as mpl\n",
        "import matplotlib.pyplot as plt"
      ]
    },
    {
      "cell_type": "markdown",
      "source": [
        "# Plotting first 100 images"
      ],
      "metadata": {
        "id": "c792OtjARUnn"
      }
    },
    {
      "cell_type": "code",
      "source": [
        "#loading digit images\n",
        "digits = load_digits()\n",
        "X,y = digits['data'],digits['target']"
      ],
      "metadata": {
        "id": "bbe3QO-RiuK7"
      },
      "execution_count": null,
      "outputs": []
    },
    {
      "cell_type": "code",
      "source": [
        "#function to plot images\n",
        "def plot_images(instances, images_per_row=10, **options):\n",
        "    size = 8\n",
        "    images_per_row = min(len(instances), images_per_row)\n",
        "    # This is equivalent to n_rows = ceil(len(instances) / images_per_row):\n",
        "    n_rows = (len(instances) - 1) // images_per_row + 1\n",
        "\n",
        "    # Append empty images to fill the end of the grid, if needed:\n",
        "    n_empty = n_rows * images_per_row - len(instances)\n",
        "    padded_instances = np.concatenate([instances, np.zeros((n_empty, size * size))], axis=0)\n",
        "\n",
        "    # Reshape the array so it's organized as a grid containing 28×28 images:\n",
        "    image_grid = padded_instances.reshape((n_rows, images_per_row, size, size))\n",
        "\n",
        "    # Combine axes 0 and 2 (vertical image grid axis, and vertical image axis),\n",
        "    # and axes 1 and 3 (horizontal axes). We first need to move the axes that we\n",
        "    # want to combine next to each other, using transpose(), and only then we\n",
        "    # can reshape:\n",
        "    big_image = image_grid.transpose(0, 2, 1, 3).reshape(n_rows * size,\n",
        "                                                         images_per_row * size)\n",
        "    # Now that we have a big image, we just need to show it:\n",
        "    plt.imshow(big_image, cmap = mpl.cm.binary, **options)\n",
        "    plt.axis(\"off\")"
      ],
      "metadata": {
        "id": "Qm3wmjYAjotf"
      },
      "execution_count": null,
      "outputs": []
    },
    {
      "cell_type": "code",
      "source": [
        "#plotting 100 digit images, with 10 rows and 10 columns\n",
        "plt.figure(figsize=(9,9))\n",
        "example_images = X[:100]\n",
        "plot_images(example_images, images_per_row=10)\n",
        "plt.show()"
      ],
      "metadata": {
        "colab": {
          "base_uri": "https://localhost:8080/",
          "height": 520
        },
        "id": "YkwafTU9jtiz",
        "outputId": "f1162148-bb37-40d8-c250-651f0c6f657a"
      },
      "execution_count": null,
      "outputs": [
        {
          "output_type": "display_data",
          "data": {
            "text/plain": [
              "<Figure size 648x648 with 1 Axes>"
            ],
            "image/png": "[encoded data removed]"
          },
          "metadata": {
            "needs_background": "light"
          }
        }
      ]
    },
    {
      "cell_type": "markdown",
      "source": [
        "#Splitting datata into 80% training and 20% testing"
      ],
      "metadata": {
        "id": "dvvxrB9URkTR"
      }
    },
    {
      "cell_type": "code",
      "source": [
        "from sklearn.model_selection import train_test_split\n",
        "\n",
        "X_train, X_test, y_train, y_test = train_test_split(X, y, test_size = .20, random_state=0)"
      ],
      "metadata": {
        "id": "qmY7T_ekmQLR"
      },
      "execution_count": null,
      "outputs": []
    },
    {
      "cell_type": "markdown",
      "source": [
        "#Implementing logistic regression with various values C, for both l2 and l1"
      ],
      "metadata": {
        "id": "hA6W8R4_Rp7T"
      }
    },
    {
      "cell_type": "code",
      "source": [
        "from sklearn.linear_model import LogisticRegression\n",
        "from sklearn.metrics import mean_squared_error\n",
        "from sklearn.model_selection import cross_val_score\n",
        "\n",
        "#function to run logistic regression model\n",
        "\n",
        "def cval(logmodel):\n",
        "  results = cross_val_score(logmodel, X_train, y_train, cv=4)\n",
        "  meanval = (1-results.mean())\n",
        "  print(\"Accuracy for C-value\", (10**(-i)), \"is\", meanval)\n",
        "  return(meanval)\n",
        "\n",
        "\n",
        "lowesterrorl2 = 10**10\n",
        "cvaluel2=0\n",
        "\n",
        "print(\"Running model for L2\")\n",
        "\n",
        "#running the L2 model for each of the c values and calculating the c value with lowest cross-fold regression error\n",
        "for i in range(0,6):\n",
        "  logmodel = LogisticRegression(multi_class=\"multinomial\",solver=\"lbfgs\", penalty=\"l2\", C=(10**(-i)), random_state=0, max_iter = 10000)\n",
        "  currenterror = cval(logmodel)\n",
        "  if currenterror < lowesterrorl2:\n",
        "    lowesterrorl2 = currenterror\n",
        "    cvaluel2 = (10**(-i))\n",
        "\n",
        "print(\"Best cvalue is \", cvaluel2)\n",
        "\n",
        "lowesterrorl1 = 10**10\n",
        "cvaluel1=0\n",
        "\n",
        "print(\"Running model for L1\")\n",
        "\n",
        "#running the L1 model for each of the c values and calculating the c value with lowest cross-fold regression error\n",
        "for i in range(0,6):\n",
        "  logmodel = LogisticRegression(multi_class=\"multinomial\", penalty=\"l1\", C=(10**(-i)), random_state=0, max_iter=10000, solver='saga')\n",
        "  currenterror = cval(logmodel)\n",
        "  if currenterror < lowesterrorl1:\n",
        "    lowesterrorl1 = currenterror\n",
        "    cvaluel1 = (10**(-i))\n",
        "\n",
        "print(\"Best cvalue is \", cvaluel1)"
      ],
      "metadata": {
        "colab": {
          "base_uri": "https://localhost:8080/"
        },
        "id": "PIbG3KUXmvwu",
        "outputId": "a47ec808-e8bb-41dc-f50f-886850391799"
      },
      "execution_count": null,
      "outputs": [
        {
          "output_type": "stream",
          "name": "stdout",
          "text": [
            "Running model for L2\n",
            "Accuracy for C-value 1 is 0.03549017332095328\n",
            "Accuracy for C-value 0.1 is 0.03479572887650895\n",
            "Accuracy for C-value 0.01 is 0.031309965954812724\n",
            "Accuracy for C-value 0.001 is 0.04731894150417826\n",
            "Accuracy for C-value 0.0001 is 0.07793252862890743\n",
            "Accuracy for C-value 1e-05 is 0.15726748684617764\n",
            "Best cvalue is  0.01\n",
            "Running model for L1\n",
            "Accuracy for C-value 1 is 0.04174984524914882\n",
            "Accuracy for C-value 0.1 is 0.03687712782420294\n",
            "Accuracy for C-value 0.01 is 0.07654750851129688\n",
            "Accuracy for C-value 0.001 is 0.8044471525843393\n",
            "Accuracy for C-value 0.0001 is 0.8949203033116682\n",
            "Accuracy for C-value 1e-05 is 0.8949203033116682\n",
            "Best cvalue is  0.1\n"
          ]
        }
      ]
    },
    {
      "cell_type": "code",
      "source": [
        "#creating errors function to calculate the mean squared error for training and testing data\n",
        "def errors(logmodel):\n",
        "  logmodel.fit(X_train, y_train)\n",
        "\n",
        "  ypred_train = logmodel.predict(X_train)\n",
        "  ypred_test = logmodel.predict(X_test)\n",
        "\n",
        "  mse_train = mean_squared_error(y_train, ypred_train)\n",
        "  mse_test = mean_squared_error(y_test, ypred_test)\n",
        "  print(\"Training error is\", mse_train, \"and test error is\", mse_test)\n",
        "\n",
        "#running function for l2 model\n",
        "print(\"Running model for L2 and cvalue\", cvaluel2)\n",
        "logmodel = LogisticRegression(multi_class=\"multinomial\",solver=\"lbfgs\", penalty=\"l2\", C=cvaluel2, random_state=0, max_iter = 10000)\n",
        "errors(logmodel)\n",
        "\n",
        "#running function for l1 model\n",
        "print(\"Running model for L1 and cvalue\", cvaluel1)\n",
        "logmodel = LogisticRegression(multi_class=\"multinomial\", penalty=\"l1\", C=cvaluel1, random_state=0, max_iter=10000, solver='saga')\n",
        "errors(logmodel)"
      ],
      "metadata": {
        "colab": {
          "base_uri": "https://localhost:8080/"
        },
        "id": "wlWJxuhEsa9q",
        "outputId": "47a14dac-12ae-4498-bcd2-f7f27131fded"
      },
      "execution_count": null,
      "outputs": [
        {
          "output_type": "stream",
          "name": "stdout",
          "text": [
            "Running model for L2 and cvalue 0.01\n",
            "Training error is 0.19554627696590118 and test error is 1.0361111111111112\n",
            "Running model for L1 and cvalue 0.1\n",
            "Training error is 0.2372999304105776 and test error is 1.0805555555555555\n"
          ]
        }
      ]
    }
  ]
}