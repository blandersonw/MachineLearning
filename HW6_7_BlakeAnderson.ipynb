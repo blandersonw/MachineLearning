{
  "nbformat": 4,
  "nbformat_minor": 0,
  "metadata": {
    "colab": {
      "provenance": [],
      "authorship_tag": "ABX9TyMhOrpHoC8jCNXBwFYNGAbh",
      "include_colab_link": true
    },
    "kernelspec": {
      "name": "python3",
      "display_name": "Python 3"
    },
    "language_info": {
      "name": "python"
    }
  },
  "cells": [
    {
      "cell_type": "markdown",
      "metadata": {
        "id": "view-in-github",
        "colab_type": "text"
      },
      "source": [
        "<a href=\"https://colab.research.google.com/github/blandersonw/MachineLearning/blob/main/HW6_7_BlakeAnderson.ipynb\" target=\"_parent\"><img src=\"https://colab.research.google.com/assets/colab-badge.svg\" alt=\"Open In Colab\"/></a>"
      ]
    },
    {
      "cell_type": "markdown",
      "source": [
        "We will train Random Forest classifier and Gradient Boosting classifier for MNIST.\n",
        "\n",
        "Use the seed 0 everywhere.\n",
        "\n",
        "1. Import MNIST data as we did in Lecture 7. We are only going to use digit 0 and digit 1. So extract only those examples and discard the rest.\n",
        "\n",
        "Next, randomly split the data into 80% training data and 20% testing data. Then split the training data again into 75% training data and 25% validation data. Keep this split fixed throughout the experiments.\n",
        "\n",
        "2. Use the validation set to choose the optimal hyperparameters \"n_estimators\" and \"max_depth\" for Random Forest, and report the best hyperparameters and the best validation error. The suggested hyperparameter values are\n",
        "\n",
        "ns_estimators = [10,20,50,100,200]\n",
        "max_depths = [1,2,5,10,20]\n",
        "\n",
        "3. Train Random Forest again with all data (i.e., training + validation data). Report the training and the test error.\n",
        "\n",
        "4. Plot the feature importance as an image, as we did in Lecture 7.\n",
        "\n",
        "5. Repeat 2 with Gradient Boosting.\n",
        "\n",
        "6. Repeat 3 with Gradient Boosting\n",
        "\n",
        "7. Repeat 4 with Gradient Boosting.\n"
      ],
      "metadata": {
        "id": "BOhK3h5cECeU"
      }
    },
    {
      "cell_type": "code",
      "source": [],
      "metadata": {
        "colab": {
          "base_uri": "https://localhost:8080/"
        },
        "id": "FzT9tMxBgt0r",
        "outputId": "82af3c17-edac-4f11-a820-ad4ccbafc665"
      },
      "execution_count": null,
      "outputs": [
        {
          "output_type": "execute_result",
          "data": {
            "text/plain": [
              "6"
            ]
          },
          "metadata": {},
          "execution_count": 1
        }
      ]
    },
    {
      "cell_type": "code",
      "execution_count": null,
      "metadata": {
        "id": "bqb66PQFD9xj"
      },
      "outputs": [],
      "source": [
        "#Importing libraries and downloading mnist\n",
        "import numpy as np\n",
        "import sklearn\n",
        "from sklearn.datasets import fetch_openml\n",
        "\n",
        "mnist = fetch_openml('mnist_784', version=1, as_frame=False)\n",
        "mnist.target = mnist.target.astype(np.uint8)"
      ]
    },
    {
      "cell_type": "code",
      "source": [
        "#Splitting mnist based on data and targets (x,y)\n",
        "X,y = mnist['data'], mnist['target']\n",
        "\n",
        "#Filtering mnist for only 0 and 1\n",
        "filter = np.where((y == 0 ) | (y == 1))\n",
        "X,y = X[filter], y[filter]"
      ],
      "metadata": {
        "id": "s-ylwY6-UbvP"
      },
      "execution_count": null,
      "outputs": []
    },
    {
      "cell_type": "code",
      "source": [
        "#Spliting data into train/test , train/validation\n",
        "\n",
        "from sklearn.model_selection import train_test_split\n",
        "\n",
        "X_train, X_test, y_train, y_test = train_test_split(X,y,test_size=.20,random_state=0)\n",
        "X_train1, X_vali, y_train1, y_vali = train_test_split(X,y,test_size=.25,random_state=0)"
      ],
      "metadata": {
        "id": "Bxm_l1cFScWa"
      },
      "execution_count": null,
      "outputs": []
    },
    {
      "cell_type": "markdown",
      "source": [
        "## Random Forest model below"
      ],
      "metadata": {
        "id": "HCRt_lntl9XZ"
      }
    },
    {
      "cell_type": "code",
      "source": [
        "from sklearn.ensemble import RandomForestClassifier\n",
        "from sklearn.metrics import accuracy_score\n",
        "\n",
        "#creating lists for saving estimator/depth corresponding to minimum error\n",
        "minerror = []\n",
        "estimator = []\n",
        "depth = []\n",
        "\n",
        "#function to run each estimator and depth using randomforest\n",
        "def run_forest(n,d):\n",
        "  rnd_clf = RandomForestClassifier(n_estimators=n, max_depth=d, random_state=0)\n",
        "  rnd_clf.fit(X_train1, y_train1)\n",
        "  y_pred = rnd_clf.predict(X_vali)\n",
        "  error = 1-accuracy_score(y_vali, y_pred)\n",
        "  print(\"NS_Estimators = \", n, \"Max Depths = \", d, \"\\n\", \"Accuracy = \", error, \"\\n\")\n",
        "  minerror.append(error)\n",
        "  estimator.append(n)\n",
        "  depth.append(d)\n",
        "\n",
        "ns_estimators, max_depths = [10,20,50,100,200], [1,2,5,10,20]\n",
        "\n",
        "for i in ns_estimators:\n",
        "  for j in max_depths:\n",
        "    run_forest(i,j)\n",
        "\n",
        "#printing minimum error with corresponding hyperparameters\n",
        "minerror_index = minerror.index(min(minerror))\n",
        "print(\"Minimum Error:\", min(minerror), \"\\nUsing best hyperparamaters - n_estimators: \", estimator[minerror_index], \" and tree depth: \", depth[minerror_index])"
      ],
      "metadata": {
        "colab": {
          "base_uri": "https://localhost:8080/"
        },
        "id": "fFYLrRdIT_Ne",
        "outputId": "b3bb4141-a3fc-4335-e32f-8f21738e5119"
      },
      "execution_count": null,
      "outputs": [
        {
          "output_type": "stream",
          "name": "stdout",
          "text": [
            "NS_Estimators =  10 Max Depths =  1 \n",
            " Accuracy =  0.009472259810554773 \n",
            "\n",
            "NS_Estimators =  10 Max Depths =  2 \n",
            " Accuracy =  0.003518267929634611 \n",
            "\n",
            "NS_Estimators =  10 Max Depths =  5 \n",
            " Accuracy =  0.002435723951285551 \n",
            "\n",
            "NS_Estimators =  10 Max Depths =  10 \n",
            " Accuracy =  0.0016238159675237007 \n",
            "\n",
            "NS_Estimators =  10 Max Depths =  20 \n",
            " Accuracy =  0.0018944519621109102 \n",
            "\n",
            "NS_Estimators =  20 Max Depths =  1 \n",
            " Accuracy =  0.007307171853856542 \n",
            "\n",
            "NS_Estimators =  20 Max Depths =  2 \n",
            " Accuracy =  0.0032476319350474014 \n",
            "\n",
            "NS_Estimators =  20 Max Depths =  5 \n",
            " Accuracy =  0.0027063599458727605 \n",
            "\n",
            "NS_Estimators =  20 Max Depths =  10 \n",
            " Accuracy =  0.0018944519621109102 \n",
            "\n",
            "NS_Estimators =  20 Max Depths =  20 \n",
            " Accuracy =  0.0010825439783491708 \n",
            "\n",
            "NS_Estimators =  50 Max Depths =  1 \n",
            " Accuracy =  0.007036535859269333 \n",
            "\n",
            "NS_Estimators =  50 Max Depths =  2 \n",
            " Accuracy =  0.0032476319350474014 \n",
            "\n",
            "NS_Estimators =  50 Max Depths =  5 \n",
            " Accuracy =  0.0018944519621109102 \n",
            "\n",
            "NS_Estimators =  50 Max Depths =  10 \n",
            " Accuracy =  0.0010825439783491708 \n",
            "\n",
            "NS_Estimators =  50 Max Depths =  20 \n",
            " Accuracy =  0.0013531799729363803 \n",
            "\n",
            "NS_Estimators =  100 Max Depths =  1 \n",
            " Accuracy =  0.006224627875507482 \n",
            "\n",
            "NS_Estimators =  100 Max Depths =  2 \n",
            " Accuracy =  0.003518267929634611 \n",
            "\n",
            "NS_Estimators =  100 Max Depths =  5 \n",
            " Accuracy =  0.0018944519621109102 \n",
            "\n",
            "NS_Estimators =  100 Max Depths =  10 \n",
            " Accuracy =  0.0005412719891745299 \n",
            "\n",
            "NS_Estimators =  100 Max Depths =  20 \n",
            " Accuracy =  0.0008119079837618504 \n",
            "\n",
            "NS_Estimators =  200 Max Depths =  1 \n",
            " Accuracy =  0.006495263870094692 \n",
            "\n",
            "NS_Estimators =  200 Max Depths =  2 \n",
            " Accuracy =  0.0032476319350474014 \n",
            "\n",
            "NS_Estimators =  200 Max Depths =  5 \n",
            " Accuracy =  0.0016238159675237007 \n",
            "\n",
            "NS_Estimators =  200 Max Depths =  10 \n",
            " Accuracy =  0.0010825439783491708 \n",
            "\n",
            "NS_Estimators =  200 Max Depths =  20 \n",
            " Accuracy =  0.0010825439783491708 \n",
            "\n",
            "Minimum Error: 0.0005412719891745299 \n",
            "Using best hyperparamaters - n_estimators:  100  and tree depth:  10\n"
          ]
        }
      ]
    },
    {
      "cell_type": "code",
      "source": [
        "#Training random forest model with all training data using our best estimator of 100 and depth of 10\n",
        "\n",
        "rnd_clf = RandomForestClassifier(n_estimators=100, max_depth=10, random_state=0)\n",
        "rnd_clf.fit(X_train, y_train)\n",
        "y_pred = rnd_clf.predict(X_test)\n",
        "error = 1-accuracy_score(y_test, y_pred)\n",
        "print(\"NS_Estimators = 100\", \"Max Depths = 10\\n\", \"Accuracy = \", error)"
      ],
      "metadata": {
        "colab": {
          "base_uri": "https://localhost:8080/"
        },
        "id": "nq6Q22XNjEkI",
        "outputId": "119f9ac8-2c1c-412d-c08e-61ad28fad472"
      },
      "execution_count": null,
      "outputs": [
        {
          "output_type": "stream",
          "name": "stdout",
          "text": [
            "NS_Estimators = 100 Max Depths = 10\n",
            " Accuracy =  0.0010148849797022574\n"
          ]
        }
      ]
    },
    {
      "cell_type": "code",
      "source": [
        "import matplotlib as mpl\n",
        "import matplotlib.pyplot as plt\n",
        "import os\n",
        "\n",
        "#displayingfeature importance using code from lecture 7\n",
        "\n",
        "PROJECT_ROOT_DIR = \".\"\n",
        "CHAPTER_ID = \"ensembles\"\n",
        "IMAGES_PATH = os.path.join(PROJECT_ROOT_DIR, \"images\", CHAPTER_ID)\n",
        "os.makedirs(IMAGES_PATH, exist_ok=True)\n",
        "\n",
        "def save_fig(fig_id, tight_layout=True, fig_extension=\"png\", resolution=300):\n",
        "    path = os.path.join(IMAGES_PATH, fig_id + \".\" + fig_extension)\n",
        "    print(\"Saving figure\", fig_id)\n",
        "    if tight_layout:\n",
        "        plt.tight_layout()\n",
        "    plt.savefig(path, format=fig_extension, dpi=resolution)\n",
        "\n",
        "def plot_digit(data):\n",
        "    image = data.reshape(28, 28)\n",
        "    plt.imshow(image, cmap = mpl.cm.hot,\n",
        "               interpolation=\"nearest\")\n",
        "    plt.axis(\"off\")\n",
        "\n",
        "plot_digit(rnd_clf.feature_importances_)\n",
        "\n",
        "cbar = plt.colorbar(ticks=[rnd_clf.feature_importances_.min(), rnd_clf.feature_importances_.max()])\n",
        "cbar.ax.set_yticklabels(['Not important', 'Very important'])\n",
        "\n",
        "save_fig(\"mnist_feature_importance_plot\")\n",
        "plt.show()"
      ],
      "metadata": {
        "colab": {
          "base_uri": "https://localhost:8080/",
          "height": 314
        },
        "id": "7jvo73ILkwdE",
        "outputId": "f3ea896e-0aac-450e-d6af-5176ba54ac78"
      },
      "execution_count": null,
      "outputs": [
        {
          "output_type": "stream",
          "name": "stdout",
          "text": [
            "Saving figure mnist_feature_importance_plot\n"
          ]
        },
        {
          "output_type": "display_data",
          "data": {
            "text/plain": [
              "<Figure size 432x288 with 2 Axes>"
            ],
            "image/png": "[encoded data removed]"
          },
          "metadata": {
            "needs_background": "light"
          }
        }
      ]
    },
    {
      "cell_type": "markdown",
      "source": [
        "## Gradient Boosting Below"
      ],
      "metadata": {
        "id": "3qCc2rwGmDab"
      }
    },
    {
      "cell_type": "code",
      "source": [
        "from sklearn.ensemble import GradientBoostingRegressor\n",
        "from sklearn.metrics import mean_squared_error\n",
        "\n",
        "#creating lists for saving estimator/depth corresponding to minimum error\n",
        "minerror = []\n",
        "estimator = []\n",
        "depth = []\n",
        "\n",
        "#function to run each estimator and depth using gradient boosting\n",
        "def run_forest(n,d):\n",
        "  gbrt = GradientBoostingRegressor(max_depth=d, n_estimators=n, learning_rate=1.0, random_state=0)\n",
        "  gbrt.fit(X_train1, y_train1)\n",
        "  y_pred = gbrt.predict(X_vali)\n",
        "  error = mean_squared_error(y_vali, y_pred)\n",
        "  print(\"NS_Estimators = \", n, \"Max Depths = \", d, \"\\n\", \"Error = \", error, \"\\n\")\n",
        "  minerror.append(error)\n",
        "  estimator.append(n)\n",
        "  depth.append(d)\n",
        "\n",
        "ns_estimators, max_depths = [10,20,50,100,200], [1,2,5,10,20]\n",
        "\n",
        "for i in ns_estimators:\n",
        "  for j in max_depths:\n",
        "    run_forest(i,j)\n",
        "\n",
        "#printing minimum error with corresponding hyperparameters\n",
        "\n",
        "minerror_index = minerror.index(min(minerror))\n",
        "print(\"Minimum Error:\", min(minerror), \"\\nUsing best hyperparamaters - n_estimators: \", estimator[minerror_index], \" and tree depth: \", depth[minerror_index])"
      ],
      "metadata": {
        "id": "WPpN6S9qmMwO",
        "colab": {
          "base_uri": "https://localhost:8080/"
        },
        "outputId": "39b1fce0-6e15-4abc-c9aa-fd7770d2f056"
      },
      "execution_count": null,
      "outputs": [
        {
          "output_type": "stream",
          "name": "stdout",
          "text": [
            "NS_Estimators =  10 Max Depths =  1 \n",
            " Error =  0.010830395941179018 \n",
            "\n",
            "NS_Estimators =  10 Max Depths =  2 \n",
            " Error =  0.0074026636675939075 \n",
            "\n",
            "NS_Estimators =  10 Max Depths =  5 \n",
            " Error =  0.004990476578271879 \n",
            "\n",
            "NS_Estimators =  10 Max Depths =  10 \n",
            " Error =  0.003479834415610475 \n",
            "\n",
            "NS_Estimators =  10 Max Depths =  20 \n",
            " Error =  0.0032476319350474127 \n",
            "\n",
            "NS_Estimators =  20 Max Depths =  1 \n",
            " Error =  0.009317458196380113 \n",
            "\n",
            "NS_Estimators =  20 Max Depths =  2 \n",
            " Error =  0.008792665232084638 \n",
            "\n",
            "NS_Estimators =  20 Max Depths =  5 \n",
            " Error =  0.004986978756986899 \n",
            "\n",
            "NS_Estimators =  20 Max Depths =  10 \n",
            " Error =  0.003479834415610475 \n",
            "\n",
            "NS_Estimators =  20 Max Depths =  20 \n",
            " Error =  0.0032476319350474127 \n",
            "\n",
            "NS_Estimators =  50 Max Depths =  1 \n",
            " Error =  0.008009091720105705 \n",
            "\n",
            "NS_Estimators =  50 Max Depths =  2 \n",
            " Error =  0.009688865786524992 \n",
            "\n",
            "NS_Estimators =  50 Max Depths =  5 \n",
            " Error =  0.004987319214287664 \n",
            "\n",
            "NS_Estimators =  50 Max Depths =  10 \n",
            " Error =  0.003479834415610475 \n",
            "\n",
            "NS_Estimators =  50 Max Depths =  20 \n",
            " Error =  0.0032476319350474127 \n",
            "\n",
            "NS_Estimators =  100 Max Depths =  1 \n",
            " Error =  0.006579589995612517 \n",
            "\n",
            "NS_Estimators =  100 Max Depths =  2 \n",
            " Error =  0.010070939398841858 \n",
            "\n",
            "NS_Estimators =  100 Max Depths =  5 \n",
            " Error =  0.004987237882354614 \n",
            "\n",
            "NS_Estimators =  100 Max Depths =  10 \n",
            " Error =  0.003479834415610475 \n",
            "\n",
            "NS_Estimators =  100 Max Depths =  20 \n",
            " Error =  0.0032476319350474127 \n",
            "\n",
            "NS_Estimators =  200 Max Depths =  1 \n",
            " Error =  0.005495034659768671 \n",
            "\n",
            "NS_Estimators =  200 Max Depths =  2 \n",
            " Error =  0.010195613534957543 \n",
            "\n",
            "NS_Estimators =  200 Max Depths =  5 \n",
            " Error =  0.004987210511923106 \n",
            "\n",
            "NS_Estimators =  200 Max Depths =  10 \n",
            " Error =  0.003479834415610475 \n",
            "\n",
            "NS_Estimators =  200 Max Depths =  20 \n",
            " Error =  0.0032476319350474127 \n",
            "\n",
            "Minimum Error: 0.0032476319350474127 \n",
            "Using best hyperparamaters - n_estimators:  10  and tree depth:  20\n"
          ]
        }
      ]
    },
    {
      "cell_type": "code",
      "source": [
        "#Training gradient boosting model with all training data using our best estimator of 10 and depth of 20\n",
        "\n",
        "gbrt = GradientBoostingRegressor(max_depth=20, n_estimators=10, learning_rate=1.0, random_state=0)\n",
        "gbrt.fit(X_train, y_train)\n",
        "y_pred = gbrt.predict(X_test)\n",
        "error = mean_squared_error(y_test, y_pred)\n",
        "print(\"NS_Estimators = 100\", \"Max Depths = 10\\n\", \"Mean Squared Error = \", error)"
      ],
      "metadata": {
        "colab": {
          "base_uri": "https://localhost:8080/"
        },
        "id": "ddbK36ZDQwgK",
        "outputId": "c044f8a8-2446-42bd-c425-3cb82c7637b7"
      },
      "execution_count": null,
      "outputs": [
        {
          "output_type": "stream",
          "name": "stdout",
          "text": [
            "NS_Estimators = 100 Max Depths = 10\n",
            " Error =  0.002706359945872878\n"
          ]
        }
      ]
    },
    {
      "cell_type": "code",
      "source": [
        "\n",
        "#displaying feature importance using code from lecture 7\n",
        "\n",
        "PROJECT_ROOT_DIR = \".\"\n",
        "CHAPTER_ID = \"ensembles\"\n",
        "IMAGES_PATH = os.path.join(PROJECT_ROOT_DIR, \"images\", CHAPTER_ID)\n",
        "os.makedirs(IMAGES_PATH, exist_ok=True)\n",
        "\n",
        "def save_fig(fig_id, tight_layout=True, fig_extension=\"png\", resolution=300):\n",
        "    path = os.path.join(IMAGES_PATH, fig_id + \".\" + fig_extension)\n",
        "    print(\"Saving figure\", fig_id)\n",
        "    if tight_layout:\n",
        "        plt.tight_layout()\n",
        "    plt.savefig(path, format=fig_extension, dpi=resolution)\n",
        "\n",
        "def plot_digit(data):\n",
        "    image = data.reshape(28, 28)\n",
        "    plt.imshow(image, cmap = mpl.cm.hot,\n",
        "               interpolation=\"nearest\")\n",
        "    plt.axis(\"off\")\n",
        "\n",
        "plot_digit(gbrt.feature_importances_)\n",
        "\n",
        "cbar = plt.colorbar(ticks=[gbrt.feature_importances_.min(), gbrt.feature_importances_.max()])\n",
        "cbar.ax.set_yticklabels(['Not important', 'Very important'])\n",
        "\n",
        "save_fig(\"mnist_feature_importance_plot\")\n",
        "plt.show()"
      ],
      "metadata": {
        "colab": {
          "base_uri": "https://localhost:8080/",
          "height": 314
        },
        "id": "SwDQlA3eR3ci",
        "outputId": "fb98ce39-2ce4-4176-ccb6-da90a5c47d57"
      },
      "execution_count": null,
      "outputs": [
        {
          "output_type": "stream",
          "name": "stdout",
          "text": [
            "Saving figure mnist_feature_importance_plot\n"
          ]
        },
        {
          "output_type": "display_data",
          "data": {
            "text/plain": [
              "<Figure size 432x288 with 2 Axes>"
            ],
            "image/png": "[encoded data removed]"
          },
          "metadata": {
            "needs_background": "light"
          }
        }
      ]
    }
  ]
}