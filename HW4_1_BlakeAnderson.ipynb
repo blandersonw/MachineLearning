{
  "nbformat": 4,
  "nbformat_minor": 0,
  "metadata": {
    "colab": {
      "provenance": [],
      "authorship_tag": "ABX9TyOh8kG9c8Dmj0HEuvF/E+1p",
      "include_colab_link": true
    },
    "kernelspec": {
      "name": "python3",
      "display_name": "Python 3"
    },
    "language_info": {
      "name": "python"
    }
  },
  "cells": [
    {
      "cell_type": "markdown",
      "metadata": {
        "id": "view-in-github",
        "colab_type": "text"
      },
      "source": [
        "<a href=\"https://colab.research.google.com/github/blandersonw/MachineLearning/blob/main/HW4_1_BlakeAnderson.ipynb\" target=\"_parent\"><img src=\"https://colab.research.google.com/assets/colab-badge.svg\" alt=\"Open In Colab\"/></a>"
      ]
    },
    {
      "cell_type": "markdown",
      "source": [
        "You are going to train ridge regression using SGD.\n",
        "Ridge regression has the cost function = MSE + alpha*||w||^2, where ||w|| is the Euclidean norm.\n",
        "The goal is to find two optimal hyperparameters 1) learning rate of SGD and 2) alpha.\n",
        "\n",
        "First, generate data like this:\n",
        "\n",
        "np.random.seed(0)\n",
        "m = 100\n",
        "X = 6 * np.random.rand(m, 1) - 3\n",
        "y = 2 + X + 0.3 * X**2 + 2*np.random.randn(m, 1)\n",
        "y = y.reshape((m))\n",
        "\n",
        "Use the seed 0.\n",
        "\n",
        "1. Randomly split the data into 80% training data and 20% testing data. Then split the training data again into 75% training data and 25% validation data. Keep this split fixed.\n",
        "\n",
        "2. Use SGDRegressor(max_iter=1000, tol=-np.infty, warm_start=True, penalty=\"l2\", learning_rate=\"constant\", random_state=0, alpha=alpha, eta0=eta0)\n",
        "What does this do? Comment on the choice of arguments above.\n",
        "Here alpha and eta0 are the value you are going to provide as the regularization weight and the learning rate.\n",
        "\n",
        "3. For each combinations of alphas = [1E-6,1E-5,1E-4,1E-3,1E-2,1E-1], eta0s = [1E-6,1E-5,1E-4,1E-3,1E-2,1E-1] \n",
        "\n",
        "(a) instantiate SGDRegressor,\n",
        "(b) call fit(),\n",
        "(c) call predict() and measure training and validation scores.\n",
        "\n",
        "4. Report the training and validation error for each combination. Which combination has the smallest validation error?\n",
        "\n",
        "5. Now use these hyperparameters to retrain the model from scratch using ALL training data (=train + validation sets).Plot the training and test error as a function of epochs. You might want to use SGDRegressor(max_iter=1, ... )\n",
        "\n",
        "6. Report the test score or this final model, and also plot the test data vs final linear regression as a line."
      ],
      "metadata": {
        "id": "OdQtoiGruJ1H"
      }
    },
    {
      "cell_type": "code",
      "execution_count": null,
      "metadata": {
        "id": "dUz-vT3quEPu"
      },
      "outputs": [],
      "source": [
        "import numpy as np\n",
        "import pandas as pd\n",
        "from sklearn.model_selection import train_test_split\n",
        "from sklearn.linear_model import SGDRegressor\n",
        "from sklearn.metrics import mean_squared_error"
      ]
    },
    {
      "cell_type": "code",
      "source": [
        "#generating data\n",
        "np.random.seed(0)\n",
        "m = 100\n",
        "X = 6 * np.random.rand(m, 1) - 3\n",
        "y = 2 + X + 0.3 * X**2 + 2*np.random.randn(m, 1)\n",
        "y = y.reshape((m))"
      ],
      "metadata": {
        "id": "WeyKB71TubIE"
      },
      "execution_count": null,
      "outputs": []
    },
    {
      "cell_type": "code",
      "source": [
        "X_train, X_test, y_train, y_test = train_test_split(X, y, test_size=0.20, random_state=0)"
      ],
      "metadata": {
        "id": "0c-22crLucmq"
      },
      "execution_count": null,
      "outputs": []
    },
    {
      "cell_type": "code",
      "source": [
        "X_train1, X_vali, y_train1, y_vali = train_test_split(X_train, y_train, test_size=0.25, random_state=0)"
      ],
      "metadata": {
        "id": "s-io_JW99thO"
      },
      "execution_count": null,
      "outputs": []
    },
    {
      "cell_type": "code",
      "source": [
        "#created sgdr function\n",
        "def sgdr(alpha_in,eta_in):\n",
        "  return(SGDRegressor(max_iter=1000, tol=-np.infty, warm_start=True, penalty=\"l2\", learning_rate=\"constant\", random_state=0, alpha=alpha_in, eta0=eta_in))"
      ],
      "metadata": {
        "id": "sAHz_vN--SID"
      },
      "execution_count": null,
      "outputs": []
    },
    {
      "cell_type": "code",
      "source": [
        "#testing sgdr with each respective alpha and eta value\n",
        "def sgdr_with_vals():\n",
        "\n",
        "  count = 10**10\n",
        "  combo = [0,0]\n",
        "\n",
        "  for i in range(1,7):\n",
        "\n",
        "    for j in range(1,7):\n",
        "\n",
        "      alphaval, etaval = 10**(-i), 10**(-j)\n",
        "\n",
        "      sgdr_results = sgdr(alphaval,etaval)\n",
        "      sgdr_results.fit(X_train1,y_train1)\n",
        "\n",
        "      ypred_train1 = sgdr_results.predict(X_train1)\n",
        "      ypred_vali = sgdr_results.predict(X_vali)\n",
        "      mse_train1 = mean_squared_error(y_train1, ypred_train1)\n",
        "      mse_vali = mean_squared_error(y_vali, ypred_vali)\n",
        "\n",
        "      print(\"Alpha:\", str(alphaval), \"-- Eta:\", str(etaval), \"-- Training error\", str(mse_train1))\n",
        "      print(\"Alpha:\", str(alphaval), \"-- Eta:\", str(etaval), \"-- Validation error\", str(mse_vali), \"\\n\")\n",
        "\n",
        "      if (mse_vali)<count:\n",
        "        count=(mse_vali)\n",
        "        combo[0],combo[1]= alphaval,etaval\n",
        "  print(\"Lowest validation error is \", count, \"with alpha value \", combo[0], \"and eta value \", combo[1])\n",
        "sgdr_with_vals()"
      ],
      "metadata": {
        "colab": {
          "base_uri": "https://localhost:8080/"
        },
        "id": "A06bmWX8_6XF",
        "outputId": "a4ff7811-4eaf-4693-9369-22bad8243574"
      },
      "execution_count": null,
      "outputs": [
        {
          "output_type": "stream",
          "name": "stdout",
          "text": [
            "Alpha: 0.1 -- Eta: 0.1 -- Training error 4.869036339843277\n",
            "Alpha: 0.1 -- Eta: 0.1 -- Validation error 4.154711978903861 \n",
            "\n",
            "Alpha: 0.1 -- Eta: 0.01 -- Training error 4.227353940953981\n",
            "Alpha: 0.1 -- Eta: 0.01 -- Validation error 4.107987699259884 \n",
            "\n",
            "Alpha: 0.1 -- Eta: 0.001 -- Training error 4.161793058439446\n",
            "Alpha: 0.1 -- Eta: 0.001 -- Validation error 4.138689750369738 \n",
            "\n",
            "Alpha: 0.1 -- Eta: 0.0001 -- Training error 4.1614615973691995\n",
            "Alpha: 0.1 -- Eta: 0.0001 -- Validation error 4.147535195225035 \n",
            "\n",
            "Alpha: 0.1 -- Eta: 1e-05 -- Training error 7.499661170424136\n",
            "Alpha: 0.1 -- Eta: 1e-05 -- Validation error 9.2061221342123 \n",
            "\n",
            "Alpha: 0.1 -- Eta: 1e-06 -- Training error 15.016184376067908\n",
            "Alpha: 0.1 -- Eta: 1e-06 -- Validation error 18.04897851181058 \n",
            "\n",
            "Alpha: 0.01 -- Eta: 0.1 -- Training error 4.828071234196536\n",
            "Alpha: 0.01 -- Eta: 0.1 -- Validation error 4.126516499857823 \n",
            "\n",
            "Alpha: 0.01 -- Eta: 0.01 -- Training error 4.202686240695504\n",
            "Alpha: 0.01 -- Eta: 0.01 -- Validation error 4.10582680401996 \n",
            "\n",
            "Alpha: 0.01 -- Eta: 0.001 -- Training error 4.15859181559642\n",
            "Alpha: 0.01 -- Eta: 0.001 -- Validation error 4.154551138851798 \n",
            "\n",
            "Alpha: 0.01 -- Eta: 0.0001 -- Training error 4.158610533592898\n",
            "Alpha: 0.01 -- Eta: 0.0001 -- Validation error 4.163532246635464 \n",
            "\n",
            "Alpha: 0.01 -- Eta: 1e-05 -- Training error 7.484968811657311\n",
            "Alpha: 0.01 -- Eta: 1e-05 -- Validation error 9.194757750083914 \n",
            "\n",
            "Alpha: 0.01 -- Eta: 1e-06 -- Training error 15.014701544733208\n",
            "Alpha: 0.01 -- Eta: 1e-06 -- Validation error 18.04757327783608 \n",
            "\n",
            "Alpha: 0.001 -- Eta: 0.1 -- Training error 4.823962041566001\n",
            "Alpha: 0.001 -- Eta: 0.1 -- Validation error 4.123713741681651 \n",
            "\n",
            "Alpha: 0.001 -- Eta: 0.01 -- Training error 4.200447994686535\n",
            "Alpha: 0.001 -- Eta: 0.01 -- Validation error 4.105882110001135 \n",
            "\n",
            "Alpha: 0.001 -- Eta: 0.001 -- Training error 4.158521734448969\n",
            "Alpha: 0.001 -- Eta: 0.001 -- Validation error 4.156422021434381 \n",
            "\n",
            "Alpha: 0.001 -- Eta: 0.0001 -- Training error 4.158573113405865\n",
            "Alpha: 0.001 -- Eta: 0.0001 -- Validation error 4.1654143690360055 \n",
            "\n",
            "Alpha: 0.001 -- Eta: 1e-05 -- Training error 7.483536534083273\n",
            "Alpha: 0.001 -- Eta: 1e-05 -- Validation error 9.193656572832511 \n",
            "\n",
            "Alpha: 0.001 -- Eta: 1e-06 -- Training error 15.014553013642974\n",
            "Alpha: 0.001 -- Eta: 1e-06 -- Validation error 18.047432516628426 \n",
            "\n",
            "Alpha: 0.0001 -- Eta: 0.1 -- Training error 4.823550976658989\n",
            "Alpha: 0.0001 -- Eta: 0.1 -- Validation error 4.123433635444245 \n",
            "\n",
            "Alpha: 0.0001 -- Eta: 0.01 -- Training error 4.200226639404375\n",
            "Alpha: 0.0001 -- Eta: 0.01 -- Validation error 4.105890540858632 \n",
            "\n",
            "Alpha: 0.0001 -- Eta: 0.001 -- Training error 4.158517399245787\n",
            "Alpha: 0.0001 -- Eta: 0.001 -- Validation error 4.156612131605727 \n",
            "\n",
            "Alpha: 0.0001 -- Eta: 0.0001 -- Training error 4.158572019667924\n",
            "Alpha: 0.0001 -- Eta: 0.0001 -- Validation error 4.165605578926459 \n",
            "\n",
            "Alpha: 0.0001 -- Eta: 1e-05 -- Training error 7.483393693043824\n",
            "Alpha: 0.0001 -- Eta: 1e-05 -- Validation error 9.19354682317078 \n",
            "\n",
            "Alpha: 0.0001 -- Eta: 1e-06 -- Training error 15.014538158052508\n",
            "Alpha: 0.0001 -- Eta: 1e-06 -- Validation error 18.047418438127686 \n",
            "\n",
            "Alpha: 1e-05 -- Eta: 0.1 -- Training error 4.823509868691913\n",
            "Alpha: 1e-05 -- Eta: 0.1 -- Validation error 4.123405626518272 \n",
            "\n",
            "Alpha: 1e-05 -- Eta: 0.01 -- Training error 4.200204528763077\n",
            "Alpha: 1e-05 -- Eta: 0.01 -- Validation error 4.105891413142621 \n",
            "\n",
            "Alpha: 1e-05 -- Eta: 0.001 -- Training error 4.158516992635894\n",
            "Alpha: 1e-05 -- Eta: 0.001 -- Validation error 4.156631173025019 \n",
            "\n",
            "Alpha: 1e-05 -- Eta: 0.0001 -- Training error 4.158571936957146\n",
            "Alpha: 1e-05 -- Eta: 0.0001 -- Validation error 4.165624730074201 \n",
            "\n",
            "Alpha: 1e-05 -- Eta: 1e-05 -- Training error 7.483379412825332\n",
            "Alpha: 1e-05 -- Eta: 1e-05 -- Validation error 9.193535851901613 \n",
            "\n",
            "Alpha: 1e-05 -- Eta: 1e-06 -- Training error 15.01453667246846\n",
            "Alpha: 1e-05 -- Eta: 1e-06 -- Validation error 18.04741703025362 \n",
            "\n",
            "Alpha: 1e-06 -- Eta: 0.1 -- Training error 4.823505757880421\n",
            "Alpha: 1e-06 -- Eta: 0.1 -- Validation error 4.123402825642653 \n",
            "\n",
            "Alpha: 1e-06 -- Eta: 0.01 -- Training error 4.200202317948015\n",
            "Alpha: 1e-06 -- Eta: 0.01 -- Validation error 4.105891500663198 \n",
            "\n",
            "Alpha: 1e-06 -- Eta: 0.001 -- Training error 4.15851695224419\n",
            "Alpha: 1e-06 -- Eta: 0.001 -- Validation error 4.156633077471169 \n",
            "\n",
            "Alpha: 1e-06 -- Eta: 0.0001 -- Training error 4.158571928952879\n",
            "Alpha: 1e-06 -- Eta: 0.0001 -- Validation error 4.165626645490607 \n",
            "\n",
            "Alpha: 1e-06 -- Eta: 1e-05 -- Training error 7.483377984842204\n",
            "Alpha: 1e-06 -- Eta: 1e-05 -- Validation error 9.193534754811566 \n",
            "\n",
            "Alpha: 1e-06 -- Eta: 1e-06 -- Training error 15.01453652390939\n",
            "Alpha: 1e-06 -- Eta: 1e-06 -- Validation error 18.047416889465588 \n",
            "\n",
            "Lowest validation error is  4.10582680401996 with alpha value  0.01 and eta value  0.01\n"
          ]
        }
      ]
    },
    {
      "cell_type": "code",
      "source": [
        "#regression function with best fit alpha and eta\n",
        "sgdr_full = SGDRegressor(max_iter=1000, tol=-np.infty, warm_start=True, penalty=\"l2\", learning_rate=\"constant\", random_state=0, alpha=.01, eta0=.01)\n",
        "sgdr_full.fit(X_train,y_train)\n",
        "\n",
        "ypred_train = sgdr_full.predict(X_train)\n",
        "ypred_test = sgdr_full.predict(X_test)\n",
        "\n",
        "mse_train = mean_squared_error(y_train, ypred_train)\n",
        "mse_test = mean_squared_error(y_test, ypred_test)\n",
        "\n",
        "print(mse_train)\n",
        "print(mse_test)\n",
        "print(mse_train+mse_test)"
      ],
      "metadata": {
        "colab": {
          "base_uri": "https://localhost:8080/"
        },
        "id": "YjADaz9gXhYd",
        "outputId": "b331c561-ce41-424d-d473-d04ab51833c2"
      },
      "execution_count": null,
      "outputs": [
        {
          "output_type": "stream",
          "name": "stdout",
          "text": [
            "4.149222251881741\n",
            "4.487591463023634\n",
            "8.636813714905376\n"
          ]
        }
      ]
    },
    {
      "cell_type": "code",
      "source": [
        "#running model with respective number of epochs\n",
        "\n",
        "train_epochs = []\n",
        "train_epochsval = []\n",
        "test_epochs = []\n",
        "test_epochsval = []\n",
        "for i in range(1,51):\n",
        "  sgdr_full = SGDRegressor(max_iter=i, tol=-np.infty, warm_start=True, penalty=\"l2\", learning_rate=\"constant\", random_state=0, alpha=.01, eta0=.01)\n",
        "  sgdr_full.fit(X_train, y_train)\n",
        "  y_epochtrain = sgdr_full.predict(X_train)\n",
        "  y_epochtest = sgdr_full.predict(X_test)\n",
        "  mse_epochtrain = mean_squared_error(y_epochtrain, y_train)\n",
        "  mse_epochtest = mean_squared_error(y_epochtest, y_vali)\n",
        "  train_epochs.append(i)\n",
        "  train_epochsval.append(mse_epochtrain)\n",
        "  test_epochs.append(i)\n",
        "  test_epochsval.append(mse_epochtest)"
      ],
      "metadata": {
        "id": "LnoOPsDEBSFc"
      },
      "execution_count": null,
      "outputs": []
    },
    {
      "cell_type": "code",
      "source": [
        "#plotting training data with epochs\n",
        "import matplotlib.pyplot\n",
        "plt.plot(train_epochs, train_epochsval)"
      ],
      "metadata": {
        "colab": {
          "base_uri": "https://localhost:8080/",
          "height": 282
        },
        "id": "bp8dYPE4MJBg",
        "outputId": "4e32d80e-d11f-4643-fa15-71744a1b22ad"
      },
      "execution_count": null,
      "outputs": [
        {
          "output_type": "execute_result",
          "data": {
            "text/plain": [
              "[<matplotlib.lines.Line2D at 0x7f7af5cba190>]"
            ]
          },
          "metadata": {},
          "execution_count": 138
        },
        {
          "output_type": "display_data",
          "data": {
            "text/plain": [
              "<Figure size 432x288 with 1 Axes>"
            ],
            "image/png": "[encoded data removed]"
          },
          "metadata": {
            "needs_background": "light"
          }
        }
      ]
    },
    {
      "cell_type": "code",
      "source": [
        "#plotting test data with epochs\n",
        "plt.plot(test_epochs, test_epochsval)"
      ],
      "metadata": {
        "colab": {
          "base_uri": "https://localhost:8080/",
          "height": 282
        },
        "id": "jlE5jZRst4jd",
        "outputId": "82ac4c9a-6b5c-4ab8-f968-51a673433043"
      },
      "execution_count": null,
      "outputs": [
        {
          "output_type": "execute_result",
          "data": {
            "text/plain": [
              "[<matplotlib.lines.Line2D at 0x7f7af5c93610>]"
            ]
          },
          "metadata": {},
          "execution_count": 139
        },
        {
          "output_type": "display_data",
          "data": {
            "text/plain": [
              "<Figure size 432x288 with 1 Axes>"
            ],
            "image/png": "[encoded data removed]"
          },
          "metadata": {
            "needs_background": "light"
          }
        }
      ]
    },
    {
      "cell_type": "code",
      "source": [
        "#test error with epoch test\n",
        "test_error = mean_squared_error(y_epochtest, y_test)\n",
        "test_error"
      ],
      "metadata": {
        "colab": {
          "base_uri": "https://localhost:8080/"
        },
        "id": "lojtRyW5uPsI",
        "outputId": "c0551e5b-ba90-497c-ab47-d9dc1b47169e"
      },
      "execution_count": null,
      "outputs": [
        {
          "output_type": "execute_result",
          "data": {
            "text/plain": [
              "4.457169127819397"
            ]
          },
          "metadata": {},
          "execution_count": 140
        }
      ]
    },
    {
      "cell_type": "code",
      "source": [
        "#plotting test data vs final linear regression\n",
        "plt.scatter(X_test, y_test)\n",
        "plt.plot(X_test, y_epochtest)"
      ],
      "metadata": {
        "colab": {
          "base_uri": "https://localhost:8080/",
          "height": 282
        },
        "id": "Bem78vUQukLl",
        "outputId": "b9d9d9ad-1505-4715-b72c-b2d40b2d2fcf"
      },
      "execution_count": null,
      "outputs": [
        {
          "output_type": "execute_result",
          "data": {
            "text/plain": [
              "[<matplotlib.lines.Line2D at 0x7f7af5c01b90>]"
            ]
          },
          "metadata": {},
          "execution_count": 141
        },
        {
          "output_type": "display_data",
          "data": {
            "text/plain": [
              "<Figure size 432x288 with 1 Axes>"
            ],
            "image/png": "[encoded data removed]"
          },
          "metadata": {
            "needs_background": "light"
          }
        }
      ]
    }
  ]
}