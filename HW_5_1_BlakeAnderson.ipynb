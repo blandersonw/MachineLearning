{
  "nbformat": 4,
  "nbformat_minor": 0,
  "metadata": {
    "colab": {
      "provenance": [],
      "authorship_tag": "ABX9TyOFx/b2r3sJjczgZgHjsmtG",
      "include_colab_link": true
    },
    "kernelspec": {
      "name": "python3",
      "display_name": "Python 3"
    },
    "language_info": {
      "name": "python"
    }
  },
  "cells": [
    {
      "cell_type": "markdown",
      "metadata": {
        "id": "view-in-github",
        "colab_type": "text"
      },
      "source": [
        "<a href=\"https://colab.research.google.com/github/blandersonw/MachineLearning/blob/main/HW_5_1_BlakeAnderson.ipynb\" target=\"_parent\"><img src=\"https://colab.research.google.com/assets/colab-badge.svg\" alt=\"Open In Colab\"/></a>"
      ]
    },
    {
      "cell_type": "markdown",
      "source": [
        "We will train polynomial SVC in this homework.\n",
        "\n",
        "Use the seed 0 everywhere.\n",
        "\n",
        "1. First, generate the two moon data as follows:\n",
        "\n",
        "\"X, y = make_moons(n_samples=200, noise=0.3, random_state=0)\"\n",
        "\n",
        "Plot the data.\n",
        "\n",
        "Randomly split the data into 80% training data and 20% testing data. Then split the training data again into 75% training data and 25% validation data. Keep this split fixed throughout the experiments.\n",
        "\n",
        "2. For each combinations of Cs = [1E-3,1E-2,1E-1,1E0,1E1,1E2,1E3] and ds = [2,3,4]\n",
        "(a) create a pipeline of polynomial features of degree d, standard scaler and linear SVC with the hyperparameter C\n",
        "(b) call fit(),\n",
        "(c) call predict() and measure training and validation error\n",
        "Report the training and validation error for each combination.\n",
        "\n",
        "3. Which combination has the smallest validation error? (You can manually find the minimum or you can use \"i, j = np.unravel_index(np.argmin(val_errors, axis=None), val_errors.shape)\" )\n",
        "\n",
        "4. Repeat 2 with a pipeline of standard scaler and SVC with the polynomial kernel of degree d, coef0=1, and the hyperparameter C.\n",
        "\n",
        "5. Repeat 3 with a pipeline of standard scaler and SVC .... (same as above)\n",
        "\n",
        "6. Should the results of 3 and 5 be identical? Or if not, why? Please comment."
      ],
      "metadata": {
        "id": "-sNVgFmHrA6n"
      }
    },
    {
      "cell_type": "code",
      "execution_count": null,
      "metadata": {
        "id": "slY7Ye15q90q"
      },
      "outputs": [],
      "source": [
        "import sklearn\n",
        "from sklearn.datasets import make_moons\n",
        "\n",
        "X, y = make_moons(n_samples=200, noise=0.3, random_state=0)"
      ]
    },
    {
      "cell_type": "markdown",
      "source": [
        "Downloading data"
      ],
      "metadata": {
        "id": "-1mXu_iJ4wCH"
      }
    },
    {
      "cell_type": "code",
      "source": [
        "import matplotlib.pyplot as plt\n",
        "\n",
        "for i in range(len(X)):\n",
        "  if y[i] == 1:\n",
        "    plt.scatter(X[i][0], X[i][1], marker='^', color = \"red\")\n",
        "  if y[i] == 0:\n",
        "    plt.scatter(X[i][0], X[i][1], marker='o', color = \"blue\")\n"
      ],
      "metadata": {
        "colab": {
          "base_uri": "https://localhost:8080/",
          "height": 265
        },
        "id": "CFnzz4FY3lpe",
        "outputId": "14e345e1-d65d-4542-8ea4-a9f45048a92c"
      },
      "execution_count": null,
      "outputs": [
        {
          "output_type": "display_data",
          "data": {
            "text/plain": [
              "<Figure size 432x288 with 1 Axes>"
            ],
            "image/png": "[encoded data removed]"
          },
          "metadata": {
            "needs_background": "light"
          }
        }
      ]
    },
    {
      "cell_type": "markdown",
      "source": [
        "Plotting the data"
      ],
      "metadata": {
        "id": "xmwcu6zA4yPZ"
      }
    },
    {
      "cell_type": "code",
      "source": [
        "from sklearn.model_selection import train_test_split\n",
        "\n",
        "X_train, X_test, y_train, y_test = train_test_split(X, y, test_size=.2, random_state = 0)\n",
        "\n",
        "X_train1, X_vali, y_train1, y_vali = train_test_split(X_train, y_train, test_size=.25, random_state = 0)"
      ],
      "metadata": {
        "id": "oaB0ggsJsnPt"
      },
      "execution_count": null,
      "outputs": []
    },
    {
      "cell_type": "markdown",
      "source": [
        "Splitting the data"
      ],
      "metadata": {
        "id": "5610zEiT42MR"
      }
    },
    {
      "cell_type": "code",
      "source": [
        "from sklearn.svm import SVC\n",
        "from sklearn.pipeline import Pipeline\n",
        "from sklearn.preprocessing import StandardScaler\n",
        "from sklearn.svm import LinearSVC\n",
        "from sklearn.metrics import mean_squared_error\n",
        "from sklearn.preprocessing import PolynomialFeatures\n",
        "#various imports\n",
        "\n",
        "for d in [2,3,4]:\n",
        "  for c in [10**-3,10**-2,10**-1,1,10, 100, 1000]:\n",
        "\n",
        "    #double for loop to iterate through every d and c variation\n",
        "\n",
        "    pipeline = Pipeline([\n",
        "        ('Polynomial Features', PolynomialFeatures(degree=d)),\n",
        "        ('Scaler', StandardScaler()),\n",
        "        ('svm', LinearSVC(C=c, random_state=0)) \n",
        "    ])\n",
        "\n",
        "    #creating pipeline\n",
        "\n",
        "    pipeline.fit(X_train1,y_train1)\n",
        "\n",
        "    #fitting model\n",
        "\n",
        "    ypred_train1 = pipeline.predict(X_train1)\n",
        "    ypred_vali = pipeline.predict(X_vali)\n",
        "    mse_train1 = mean_squared_error(y_train1, ypred_train1)\n",
        "    mse_vali = mean_squared_error(y_vali, ypred_vali)\n",
        "\n",
        "    #using predictions to generate mean squared error for training and validation data\n",
        "\n",
        "    print(\"C value:\", str(c), \"-- D value:\", str(d), \"-- Training error\", str(mse_train1), \"-- Validation error\", str(mse_vali))\n",
        "\n",
        "    #printing results\n"
      ],
      "metadata": {
        "colab": {
          "base_uri": "https://localhost:8080/"
        },
        "id": "1Hsmo_ZsrouR",
        "outputId": "6271beed-cda5-470f-df60-9570813ebbab"
      },
      "execution_count": null,
      "outputs": [
        {
          "output_type": "stream",
          "name": "stdout",
          "text": [
            "C value: 0.001 -- D value: 2 -- Training error 0.16666666666666666 -- Validation error 0.2\n",
            "C value: 0.01 -- D value: 2 -- Training error 0.16666666666666666 -- Validation error 0.175\n",
            "C value: 0.1 -- D value: 2 -- Training error 0.16666666666666666 -- Validation error 0.175\n",
            "C value: 1 -- D value: 2 -- Training error 0.16666666666666666 -- Validation error 0.15\n",
            "C value: 10 -- D value: 2 -- Training error 0.16666666666666666 -- Validation error 0.15\n",
            "C value: 100 -- D value: 2 -- Training error 0.16666666666666666 -- Validation error 0.15\n",
            "C value: 1000 -- D value: 2 -- Training error 0.39166666666666666 -- Validation error 0.35\n",
            "C value: 0.001 -- D value: 3 -- Training error 0.175 -- Validation error 0.15\n",
            "C value: 0.01 -- D value: 3 -- Training error 0.16666666666666666 -- Validation error 0.175\n",
            "C value: 0.1 -- D value: 3 -- Training error 0.16666666666666666 -- Validation error 0.125\n",
            "C value: 1 -- D value: 3 -- Training error 0.13333333333333333 -- Validation error 0.075\n",
            "C value: 10 -- D value: 3 -- Training error 0.11666666666666667 -- Validation error 0.05\n",
            "C value: 100 -- D value: 3 -- Training error 0.11666666666666667 -- Validation error 0.05\n",
            "C value: 1000 -- D value: 3 -- Training error 0.225 -- Validation error 0.225\n",
            "C value: 0.001 -- D value: 4 -- Training error 0.16666666666666666 -- Validation error 0.2\n",
            "C value: 0.01 -- D value: 4 -- Training error 0.15833333333333333 -- Validation error 0.175\n",
            "C value: 0.1 -- D value: 4 -- Training error 0.13333333333333333 -- Validation error 0.125\n",
            "C value: 1 -- D value: 4 -- Training error 0.11666666666666667 -- Validation error 0.1\n",
            "C value: 10 -- D value: 4 -- Training error 0.11666666666666667 -- Validation error 0.05\n",
            "C value: 100 -- D value: 4 -- Training error 0.10833333333333334 -- Validation error 0.15\n",
            "C value: 1000 -- D value: 4 -- Training error 0.1 -- Validation error 0.125\n"
          ]
        },
        {
          "output_type": "stream",
          "name": "stderr",
          "text": [
            "/usr/local/lib/python3.7/dist-packages/sklearn/svm/_base.py:1208: ConvergenceWarning: Liblinear failed to converge, increase the number of iterations.\n",
            "  ConvergenceWarning,\n",
            "/usr/local/lib/python3.7/dist-packages/sklearn/svm/_base.py:1208: ConvergenceWarning: Liblinear failed to converge, increase the number of iterations.\n",
            "  ConvergenceWarning,\n",
            "/usr/local/lib/python3.7/dist-packages/sklearn/svm/_base.py:1208: ConvergenceWarning: Liblinear failed to converge, increase the number of iterations.\n",
            "  ConvergenceWarning,\n",
            "/usr/local/lib/python3.7/dist-packages/sklearn/svm/_base.py:1208: ConvergenceWarning: Liblinear failed to converge, increase the number of iterations.\n",
            "  ConvergenceWarning,\n",
            "/usr/local/lib/python3.7/dist-packages/sklearn/svm/_base.py:1208: ConvergenceWarning: Liblinear failed to converge, increase the number of iterations.\n",
            "  ConvergenceWarning,\n",
            "/usr/local/lib/python3.7/dist-packages/sklearn/svm/_base.py:1208: ConvergenceWarning: Liblinear failed to converge, increase the number of iterations.\n",
            "  ConvergenceWarning,\n",
            "/usr/local/lib/python3.7/dist-packages/sklearn/svm/_base.py:1208: ConvergenceWarning: Liblinear failed to converge, increase the number of iterations.\n",
            "  ConvergenceWarning,\n",
            "/usr/local/lib/python3.7/dist-packages/sklearn/svm/_base.py:1208: ConvergenceWarning: Liblinear failed to converge, increase the number of iterations.\n",
            "  ConvergenceWarning,\n",
            "/usr/local/lib/python3.7/dist-packages/sklearn/svm/_base.py:1208: ConvergenceWarning: Liblinear failed to converge, increase the number of iterations.\n",
            "  ConvergenceWarning,\n"
          ]
        }
      ]
    },
    {
      "cell_type": "markdown",
      "source": [
        "Minimum validation error of .05 for D-val 3 and C-vals 10, 100 AND D-val 4 and C-val 10."
      ],
      "metadata": {
        "id": "7_P3jLPR1QB1"
      }
    },
    {
      "cell_type": "code",
      "source": [
        "\n",
        "for d in [2,3,4]:\n",
        "  for c in [10**-3,10**-2,10**-1,1,10, 100, 1000]:\n",
        "    pipeline = Pipeline([\n",
        "        ('Scaler', StandardScaler()),\n",
        "        ('svm', SVC(kernel = \"poly\", C=c, coef0=1, degree = d)) \n",
        "    ])\n",
        "\n",
        "    #creating pipeline\n",
        "\n",
        "    pipeline.fit(X_train1,y_train1)\n",
        "\n",
        "    #fitting model\n",
        "\n",
        "    ypred_train1 = pipeline.predict(X_train1)\n",
        "    ypred_vali = pipeline.predict(X_vali)\n",
        "    mse_train1 = mean_squared_error(y_train1, ypred_train1)\n",
        "    mse_vali = mean_squared_error(y_vali, ypred_vali)\n",
        "\n",
        "    #using predictions to generate mean squared error for training and validation data\n",
        "\n",
        "    print(\"C value:\", str(c), \"-- D value:\", str(d), \"-- Training error\", str(mse_train1), \"-- Validation error\", str(mse_vali))\n",
        "\n",
        "    #printing results\n"
      ],
      "metadata": {
        "colab": {
          "base_uri": "https://localhost:8080/"
        },
        "id": "nscPvbw30iz9",
        "outputId": "ef8c2d6e-d473-4866-a05b-b1caf457d078"
      },
      "execution_count": null,
      "outputs": [
        {
          "output_type": "stream",
          "name": "stdout",
          "text": [
            "C value: 0.001 -- D value: 2 -- Training error 0.48333333333333334 -- Validation error 0.5\n",
            "C value: 0.01 -- D value: 2 -- Training error 0.175 -- Validation error 0.2\n",
            "C value: 0.1 -- D value: 2 -- Training error 0.16666666666666666 -- Validation error 0.175\n",
            "C value: 1 -- D value: 2 -- Training error 0.16666666666666666 -- Validation error 0.175\n",
            "C value: 10 -- D value: 2 -- Training error 0.16666666666666666 -- Validation error 0.175\n",
            "C value: 100 -- D value: 2 -- Training error 0.16666666666666666 -- Validation error 0.175\n",
            "C value: 1000 -- D value: 2 -- Training error 0.16666666666666666 -- Validation error 0.175\n",
            "C value: 0.001 -- D value: 3 -- Training error 0.45 -- Validation error 0.475\n",
            "C value: 0.01 -- D value: 3 -- Training error 0.16666666666666666 -- Validation error 0.2\n",
            "C value: 0.1 -- D value: 3 -- Training error 0.16666666666666666 -- Validation error 0.15\n",
            "C value: 1 -- D value: 3 -- Training error 0.13333333333333333 -- Validation error 0.075\n",
            "C value: 10 -- D value: 3 -- Training error 0.13333333333333333 -- Validation error 0.075\n",
            "C value: 100 -- D value: 3 -- Training error 0.125 -- Validation error 0.05\n",
            "C value: 1000 -- D value: 3 -- Training error 0.125 -- Validation error 0.05\n",
            "C value: 0.001 -- D value: 4 -- Training error 0.25 -- Validation error 0.25\n",
            "C value: 0.01 -- D value: 4 -- Training error 0.16666666666666666 -- Validation error 0.175\n",
            "C value: 0.1 -- D value: 4 -- Training error 0.13333333333333333 -- Validation error 0.125\n",
            "C value: 1 -- D value: 4 -- Training error 0.125 -- Validation error 0.125\n",
            "C value: 10 -- D value: 4 -- Training error 0.125 -- Validation error 0.05\n",
            "C value: 100 -- D value: 4 -- Training error 0.11666666666666667 -- Validation error 0.1\n",
            "C value: 1000 -- D value: 4 -- Training error 0.1 -- Validation error 0.175\n"
          ]
        }
      ]
    },
    {
      "cell_type": "markdown",
      "source": [
        "Minimum validation error of .05 for D-val 3 and C-vals 100, 1000 AND D-val 4 and C-val 10."
      ],
      "metadata": {
        "id": "jmTV8CVr2znZ"
      }
    },
    {
      "cell_type": "markdown",
      "source": [
        "The results of 3 and 5 should not be identical, however, it makes sense that they are very similar.  The kernel trick uses an estimation of the cross product rather than estimating using polynomial transformation itself.  "
      ],
      "metadata": {
        "id": "uLd_eyK53FBH"
      }
    }
  ]
}